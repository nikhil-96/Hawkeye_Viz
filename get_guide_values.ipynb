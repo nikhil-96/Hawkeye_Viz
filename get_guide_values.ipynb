{
 "cells": [
  {
   "cell_type": "code",
   "execution_count": 20,
   "id": "77fd8d8b",
   "metadata": {},
   "outputs": [],
   "source": [
    "import pandas as pd\n",
    "import warnings\n",
    "warnings.filterwarnings(\"ignore\")\n",
    "import numpy as np"
   ]
  },
  {
   "cell_type": "code",
   "execution_count": 52,
   "id": "5226d1fc",
   "metadata": {},
   "outputs": [
    {
     "name": "stdout",
     "output_type": "stream",
     "text": [
      "       accident_index  accident_year  light_conditions  road_type\n",
      "0       2016010000005           2016                 5          6\n",
      "1       2016010000006           2016                 4          6\n",
      "2       2016010000008           2016                 4          1\n",
      "3       2016010000016           2016                 1          6\n",
      "4       2016010000018           2016                 1          3\n",
      "...               ...            ...               ...        ...\n",
      "597968  2020991027064           2020                 1          6\n",
      "597969  2020991029573           2020                 1          9\n",
      "597970  2020991030297           2020                 1          6\n",
      "597971  2020991030900           2020                 1          6\n",
      "597972  2020991032575           2020                 1          6\n",
      "\n",
      "[597973 rows x 4 columns]\n"
     ]
    }
   ],
   "source": [
    "\n",
    "dfa = pd.read_csv('https://data.dft.gov.uk/road-accidents-safety-data/dft-road-casualty-statistics-accident-last-5-years.csv')\n",
    "\n",
    "#add in dfa the data you want to map with the road guide data\n",
    "dfa = dfa[['accident_index','accident_year','light_conditions','road_type']]\n",
    "\n",
    "print(dfa)"
   ]
  },
  {
   "cell_type": "code",
   "execution_count": 13,
   "id": "dc86240c",
   "metadata": {},
   "outputs": [
    {
     "name": "stdout",
     "output_type": "stream",
     "text": [
      "         table               field name code/format  \\\n",
      "0     Accident           accident_index         NaN   \n",
      "1     Accident            accident_year         NaN   \n",
      "2     Accident       accident_reference         NaN   \n",
      "3     Accident    location_easting_osgr         NaN   \n",
      "4     Accident   location_northing_osgr         NaN   \n",
      "...        ...                      ...         ...   \n",
      "1574  Casualty      casualty_imd_decile          -1   \n",
      "1575  Casualty  casualty_home_area_type           1   \n",
      "1576  Casualty  casualty_home_area_type           2   \n",
      "1577  Casualty  casualty_home_area_type           3   \n",
      "1578  Casualty  casualty_home_area_type          -1   \n",
      "\n",
      "                             label  \\\n",
      "0                              NaN   \n",
      "1                              NaN   \n",
      "2                              NaN   \n",
      "3                              NaN   \n",
      "4                              NaN   \n",
      "...                            ...   \n",
      "1574  Data missing or out of range   \n",
      "1575                    Urban area   \n",
      "1576                    Small town   \n",
      "1577                         Rural   \n",
      "1578  Data missing or out of range   \n",
      "\n",
      "                                                   note  \n",
      "0     unique value for each accident. The accident_i...  \n",
      "1                                                   NaN  \n",
      "2     In year id used by the police to reference a c...  \n",
      "3                                     Null if not known  \n",
      "4                                     Null if not known  \n",
      "...                                                 ...  \n",
      "1574                           field introduced in 2016  \n",
      "1575                           field introduced in 1999  \n",
      "1576                           field introduced in 1999  \n",
      "1577                           field introduced in 1999  \n",
      "1578                           field introduced in 1999  \n",
      "\n",
      "[1579 rows x 5 columns]\n"
     ]
    }
   ],
   "source": [
    "#get the guide data\n",
    "\n",
    "dfg = pd.read_excel('https://data.dft.gov.uk/road-accidents-safety-data/Road-Safety-Open-Dataset-Data-Guide.xlsx')"
   ]
  },
  {
   "cell_type": "code",
   "execution_count": 53,
   "id": "0caf24fe",
   "metadata": {},
   "outputs": [
    {
     "name": "stdout",
     "output_type": "stream",
     "text": [
      "       accident_index  accident_year         light_conditions  \\\n",
      "0       2016010000005           2016  Darkness - lights unlit   \n",
      "1       2016010000006           2016    Darkness - lights lit   \n",
      "2       2016010000008           2016    Darkness - lights lit   \n",
      "3       2016010000016           2016                 Daylight   \n",
      "4       2016010000018           2016                 Daylight   \n",
      "...               ...            ...                      ...   \n",
      "597968  2020991027064           2020                 Daylight   \n",
      "597969  2020991029573           2020                 Daylight   \n",
      "597970  2020991030297           2020                 Daylight   \n",
      "597971  2020991030900           2020                 Daylight   \n",
      "597972  2020991032575           2020                 Daylight   \n",
      "\n",
      "                 road_type  \n",
      "0       Single carriageway  \n",
      "1       Single carriageway  \n",
      "2               Roundabout  \n",
      "3       Single carriageway  \n",
      "4         Dual carriageway  \n",
      "...                    ...  \n",
      "597968  Single carriageway  \n",
      "597969             Unknown  \n",
      "597970  Single carriageway  \n",
      "597971  Single carriageway  \n",
      "597972  Single carriageway  \n",
      "\n",
      "[597973 rows x 4 columns]\n"
     ]
    }
   ],
   "source": [
    "#replace the values of dfa columns that are in field_name column and have a label\n",
    "for i in range(len(dfg['field name'])):\n",
    "    for header in list(dfa):\n",
    "        if dfg['field name'][i] == header and not np.isnan(dfg['code/format'][i]):\n",
    "            dfa[header].replace(dfg['code/format'][i], dfg['label'][i], inplace=True)\n",
    "print(dfa)"
   ]
  }
 ],
 "metadata": {
  "kernelspec": {
   "display_name": "Python 3 (ipykernel)",
   "language": "python",
   "name": "python3"
  },
  "language_info": {
   "codemirror_mode": {
    "name": "ipython",
    "version": 3
   },
   "file_extension": ".py",
   "mimetype": "text/x-python",
   "name": "python",
   "nbconvert_exporter": "python",
   "pygments_lexer": "ipython3",
   "version": "3.10.0"
  }
 },
 "nbformat": 4,
 "nbformat_minor": 5
}
